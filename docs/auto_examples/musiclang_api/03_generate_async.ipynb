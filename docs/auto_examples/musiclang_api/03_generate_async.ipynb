{
  "cells": [
    {
      "cell_type": "markdown",
      "metadata": {},
      "source": [
        "\n# Create a song in async mode\n\nIn this example :\n- We do the same example that 02_generate_from_scratch.py but in async mode\n- We poll the API until the prediction is done every 3 seconds\n"
      ]
    },
    {
      "cell_type": "code",
      "execution_count": null,
      "metadata": {
        "collapsed": false
      },
      "outputs": [],
      "source": [
        "import os\nimport time\nfrom maidi import MidiScore\nfrom maidi import instrument\nfrom maidi.integrations.api import MusicLangAPI\n\n\n# Assuming API_URL and API_KEY are set in the environment\nAPI_URL = os.getenv(\"API_URL\")\nAPI_KEY = os.getenv(\"API_KEY\")\n\n# Your choice of params for generation here\ninstruments = [\n    instrument.DRUMS,\n    instrument.ELECTRIC_BASS_FINGER,\n]\n\n# Create a 4 bar template with the given instruments\nscore = MidiScore.from_empty(\n    instruments=instruments, nb_bars=4, ts=(4, 4), tempo=120\n)\n# Get the controls (the prompt) for this score\nmask, tags, chords = score.get_empty_controls(prevent_silence=True)\nmask[:, :] = 1  # Regenerate everything in the score\n\n# Call the musiclang API to predict the score\napi = MusicLangAPI(api_key=API_KEY, verbose=True)\ntask_id = api.predict(score,\n                              mask,\n                              tags=tags,\n                              chords=chords,\n                              async_mode=True, # Set to True to use async mode\n\n                              polling_interval=3\n)\n\n# Poll the API until the prediction is done\nwhile True:\n    score = api.poll_api(task_id)\n    if score is not None:\n        score.write('predicted_score.mid')\n        break\n    time.sleep(3)"
      ]
    }
  ],
  "metadata": {
    "kernelspec": {
      "display_name": "Python 3",
      "language": "python",
      "name": "python3"
    },
    "language_info": {
      "codemirror_mode": {
        "name": "ipython",
        "version": 3
      },
      "file_extension": ".py",
      "mimetype": "text/x-python",
      "name": "python",
      "nbconvert_exporter": "python",
      "pygments_lexer": "ipython3",
      "version": "3.12.3"
    }
  },
  "nbformat": 4,
  "nbformat_minor": 0
}