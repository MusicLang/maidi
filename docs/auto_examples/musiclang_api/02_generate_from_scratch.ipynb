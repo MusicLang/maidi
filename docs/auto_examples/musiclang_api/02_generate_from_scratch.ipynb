{
  "cells": [
    {
      "cell_type": "markdown",
      "metadata": {},
      "source": [
        "\n# Create a drum'n'bass sample\n\nIn this example :\n- We create an empty score with 4 bars and drums and bass instruments\n- We set the mask to regenerate everything\n- We call the musiclang API to generate the score\n- We save the predicted score to a midi file\n"
      ]
    },
    {
      "cell_type": "code",
      "execution_count": null,
      "metadata": {
        "collapsed": false
      },
      "outputs": [],
      "source": [
        "from maidi import MidiScore\nfrom maidi import instrument\nfrom maidi.integrations.api import MusicLangAPI\nimport os\n\n# Assuming API_URL and API_KEY are set in the environment\nAPI_URL = os.getenv(\"API_URL\")\nAPI_KEY = os.getenv(\"API_KEY\")\n\n# Your choice of params for generation here\ninstruments = [\n    instrument.DRUMS,\n    instrument.ELECTRIC_BASS_FINGER,\n]\n\n# Create a 4 bar template with the given instruments\nscore = MidiScore.from_empty(\n    instruments=instruments, nb_bars=4, ts=(4, 4), tempo=120\n)\n# Get the controls (the prompt) for this score\nmask, tags, chords = score.get_empty_controls(prevent_silence=True)\nmask[:, :] = 1  # Regenerate everything in the score\n\n# Call the musiclang API to predict the score\napi = MusicLangAPI(api_key=API_KEY, verbose=True)\npredicted_score = api.predict(score,\n    mask, tags=tags, chords=chords, async_mode=False, polling_interval=3\n)\npredicted_score.write(\"predicted_score.mid\")"
      ]
    }
  ],
  "metadata": {
    "kernelspec": {
      "display_name": "Python 3",
      "language": "python",
      "name": "python3"
    },
    "language_info": {
      "codemirror_mode": {
        "name": "ipython",
        "version": 3
      },
      "file_extension": ".py",
      "mimetype": "text/x-python",
      "name": "python",
      "nbconvert_exporter": "python",
      "pygments_lexer": "ipython3",
      "version": "3.12.3"
    }
  },
  "nbformat": 4,
  "nbformat_minor": 0
}