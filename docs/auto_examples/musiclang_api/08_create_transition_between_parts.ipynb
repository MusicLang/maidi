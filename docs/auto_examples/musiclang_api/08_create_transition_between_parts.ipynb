{
  "cells": [
    {
      "cell_type": "markdown",
      "metadata": {},
      "source": [
        "\n# Create a transition between two parts of a song\n\nIn this example :\n- We load two parts of a same song (midi file with same tracks)\n- We ask musiclang to create a 4-bar transition for us between those two tracks\n- We get back the score with only the transition OR the full score\n"
      ]
    },
    {
      "cell_type": "code",
      "execution_count": null,
      "metadata": {
        "collapsed": false
      },
      "outputs": [],
      "source": [
        "import os\nfrom maidi import MidiScore, instrument, midi_library\nfrom maidi.integrations.api import MusicLangAPI\n\n# Assuming API_URL and API_KEY are set in the environment\nAPI_URL = os.getenv(\"API_URL\")\nAPI_KEY = os.getenv(\"API_KEY\")\n\nnb_bars_transition = 4  # Should be less than 12 bars, the higher the value the less context is added to the model\n\n# Create a 4 bar template with the given instruments\nscore1 = MidiScore.from_midi(midi_library.get_midi_file('drum_and_bass'))\nscore2 = MidiScore.from_midi(midi_library.get_midi_file('drum_and_bass'))\n\n# Call the musiclang API to predict the score\napi = MusicLangAPI(api_key=API_KEY, verbose=True)\npredicted_score = api.create_transition(score1, score2, nb_bars_transition,\n                                        async_mode=False, polling_interval=3\n)\npredicted_score.write(\"predicted_score.mid\")"
      ]
    }
  ],
  "metadata": {
    "kernelspec": {
      "display_name": "Python 3",
      "language": "python",
      "name": "python3"
    },
    "language_info": {
      "codemirror_mode": {
        "name": "ipython",
        "version": 3
      },
      "file_extension": ".py",
      "mimetype": "text/x-python",
      "name": "python",
      "nbconvert_exporter": "python",
      "pygments_lexer": "ipython3",
      "version": "3.12.3"
    }
  },
  "nbformat": 4,
  "nbformat_minor": 0
}