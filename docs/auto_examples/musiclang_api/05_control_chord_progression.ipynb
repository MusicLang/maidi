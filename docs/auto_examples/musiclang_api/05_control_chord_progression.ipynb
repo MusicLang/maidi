{
  "cells": [
    {
      "cell_type": "markdown",
      "metadata": {},
      "source": [
        "\n# Control the chord progression of the generation\n\nMusicLang allows you to control the chord progression of your song. In this example :\n\n- We generate a 5 bars song with a classic I vi ii6 V7 chord progression\n- We let the model decide the last bar chord\n\nBy using and modifying this example you can create a features that involves enforcing a given chord progression.\n\nCheck `chords` to check the chord scale progression syntax.\n"
      ]
    },
    {
      "cell_type": "code",
      "execution_count": null,
      "metadata": {
        "collapsed": false
      },
      "outputs": [],
      "source": [
        "import os\nfrom maidi import MidiScore, instrument\nimport maidi.chords_symbols as cs\nfrom maidi.integrations.api import MusicLangAPI\n\n# Assuming API_URL and API_KEY are set in the environment\nAPI_KEY = os.getenv(\"API_KEY\")\n\n# Create a 4 bar template with the given instruments\nscore = MidiScore.from_empty(\n    instruments=[instrument.ELECTRIC_PIANO], nb_bars=5, ts=(4, 4), tempo=120\n)\n# Get the controls (the prompt) for this score\nmask, tags, chords = score.get_empty_controls(prevent_silence=True)\nmask[:, :] = 1  # Regenerate everything in the score\n\n# We control the chord progression here (I, vi, ii6, V7, unspecified in D major) :\n\nchords = [(cs.I, cs.D, cs.major, cs._root_position),\n           (cs.VI, cs.D, cs.major, ''), # Triad in root position can also be written as empty string ''\n           (cs.II, cs.D, cs.major, cs._6),\n           (cs.V, cs.D, cs.major, cs._7),\n           None  # Let the model choose the last chord\n          ]\n\n# Call the musiclang API to predict the score\napi = MusicLangAPI(api_key=API_KEY, verbose=True)\npredicted_score = api.predict(score,\n    mask, tags=tags, chords=chords, async_mode=False, polling_interval=3\n)\npredicted_score.write(\"predicted_score.mid\")"
      ]
    }
  ],
  "metadata": {
    "kernelspec": {
      "display_name": "Python 3",
      "language": "python",
      "name": "python3"
    },
    "language_info": {
      "codemirror_mode": {
        "name": "ipython",
        "version": 3
      },
      "file_extension": ".py",
      "mimetype": "text/x-python",
      "name": "python",
      "nbconvert_exporter": "python",
      "pygments_lexer": "ipython3",
      "version": "3.12.3"
    }
  },
  "nbformat": 4,
  "nbformat_minor": 0
}