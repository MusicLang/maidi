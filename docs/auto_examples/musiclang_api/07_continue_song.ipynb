{
  "cells": [
    {
      "cell_type": "markdown",
      "metadata": {},
      "source": [
        "\n# Extend an existing sample or song\n\nIn this example :\n- We load an existing song\n- We ask musiclang to continue it for 4 bars\n"
      ]
    },
    {
      "cell_type": "code",
      "execution_count": null,
      "metadata": {
        "collapsed": false
      },
      "outputs": [],
      "source": [
        "import os\nfrom maidi import MidiScore, instrument, midi_library\nfrom maidi.integrations.api import MusicLangAPI\nfrom maidi import chords_symbols as cs\n\n# Assuming API_URL and API_KEY are set in the environment\nAPI_URL = os.getenv(\"API_URL\")\nAPI_KEY = os.getenv(\"API_KEY\")\n\nnb_bars_extension = 4\n\n# Load a score with two tracks and 4 bars (drum and bass)\nscore = MidiScore.from_midi(midi_library.get_midi_file('drum_and_bass'))\nprint(\"Starting number of bars : \", score.nb_bars)\n# Control the chord progression, same as before (Optional)\nchords = [\n            (cs.I, cs.C, cs.major, cs._root_position),\n           (cs.VI, cs.C, cs.major, ''), # Triad in root position can also be written as empty string ''\n           (cs.II, cs.C, cs.major, cs._6),\n           (cs.V, cs.C, cs.major, cs._7),\n]\n\n# Add some tags for the new bars (Optional)\ntags = [[['CONTROL_MIN_POLYPHONY__1', 'CONTROL_MAX_POLYPHONY__1', 'CONTROL_DENSITY__LOW'] for bar_index in range(nb_bars_extension)]\n        for track_index in range(score.nb_tracks)\n        ]\n\n# Call the musiclang API to predict the score\napi = MusicLangAPI(api_key=API_KEY, verbose=True)\npredicted_score = api.extend(score,\n                             nb_bars_extension,  #  How many bars to add to the current score\n                             chords=chords,\n                             tags=tags,\n                             nb_added_bars_step=2,  # Choose how many bar generate per steps (if none it is calculated automatically)\n                             polling_interval=3\n)\nprint(\"Final number of bars : \", predicted_score.nb_bars)\npredicted_score.write(\"predicted_score.mid\")"
      ]
    }
  ],
  "metadata": {
    "kernelspec": {
      "display_name": "Python 3",
      "language": "python",
      "name": "python3"
    },
    "language_info": {
      "codemirror_mode": {
        "name": "ipython",
        "version": 3
      },
      "file_extension": ".py",
      "mimetype": "text/x-python",
      "name": "python",
      "nbconvert_exporter": "python",
      "pygments_lexer": "ipython3",
      "version": "3.12.3"
    }
  },
  "nbformat": 4,
  "nbformat_minor": 0
}