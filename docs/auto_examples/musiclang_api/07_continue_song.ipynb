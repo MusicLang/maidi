{
  "cells": [
    {
      "cell_type": "markdown",
      "metadata": {},
      "source": [
        "\n# Extend an existing sample or song\n\nIn this example :\n- We load an existing song\n- We ask musiclang to continue it for 4 bars\n"
      ]
    },
    {
      "cell_type": "code",
      "execution_count": null,
      "metadata": {
        "collapsed": false
      },
      "outputs": [],
      "source": [
        "import os\nfrom maidi import MidiScore, instrument, midi_library\nfrom maidi.integrations.api import MusicLangAPI\n\n# Assuming API_URL and API_KEY are set in the environment\nAPI_URL = os.getenv(\"API_URL\")\nAPI_KEY = os.getenv(\"API_KEY\")\n\nnb_bars_extension = 4\n\n# Create a 4 bar template with the given instruments\nscore = MidiScore.from_midi(midi_library.get_midi_file('drum_and_bass'))\n\n# Call the musiclang API to predict the score\napi = MusicLangAPI(api_key=API_KEY, verbose=True)\npredicted_score = api.extend(score, nb_bars_extension, async_mode=False, polling_interval=3\n)\npredicted_score.write(\"predicted_score.mid\")"
      ]
    }
  ],
  "metadata": {
    "kernelspec": {
      "display_name": "Python 3",
      "language": "python",
      "name": "python3"
    },
    "language_info": {
      "codemirror_mode": {
        "name": "ipython",
        "version": 3
      },
      "file_extension": ".py",
      "mimetype": "text/x-python",
      "name": "python",
      "nbconvert_exporter": "python",
      "pygments_lexer": "ipython3",
      "version": "3.12.3"
    }
  },
  "nbformat": 4,
  "nbformat_minor": 0
}