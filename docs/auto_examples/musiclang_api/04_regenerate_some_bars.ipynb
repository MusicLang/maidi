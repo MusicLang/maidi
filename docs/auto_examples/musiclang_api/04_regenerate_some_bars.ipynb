{
  "cells": [
    {
      "cell_type": "markdown",
      "metadata": {},
      "source": [
        "\n# Regenerate only some bars of a specific tracks\n\nIn this example :\n- We load a 4 bar template from a midi file (drum and bass\n- We regenerate only the first and last bar of the bass (second track)\n"
      ]
    },
    {
      "cell_type": "code",
      "execution_count": null,
      "metadata": {
        "collapsed": false
      },
      "outputs": [],
      "source": [
        "import os\nfrom maidi import MidiScore, instrument, midi_library\nfrom maidi.integrations.api import MusicLangAPI\n\n# Assuming API_URL and API_KEY are set in the environment\nAPI_URL = os.getenv(\"API_URL\")\nAPI_KEY = os.getenv(\"API_KEY\")\n\n# Create a 4 bar template with the given instruments\nscore = MidiScore.from_midi(midi_library.get_midi_file('drum_and_bass'))\nmask, _, _ = score.get_empty_controls(prevent_silence=True)\n\n# Let's set the mask to regenerate the bar we want\nmask[1, 0] = 1  # Second track, first bar\nmask[1, -1] = 1  # Second track last bar\n\n# Call the musiclang API to predict the score\napi = MusicLangAPI(api_key=API_KEY, verbose=True)\npredicted_score = api.predict(score,\n    mask, async_mode=False, polling_interval=3\n)\npredicted_score.write(\"predicted_score.mid\")"
      ]
    }
  ],
  "metadata": {
    "kernelspec": {
      "display_name": "Python 3",
      "language": "python",
      "name": "python3"
    },
    "language_info": {
      "codemirror_mode": {
        "name": "ipython",
        "version": 3
      },
      "file_extension": ".py",
      "mimetype": "text/x-python",
      "name": "python",
      "nbconvert_exporter": "python",
      "pygments_lexer": "ipython3",
      "version": "3.12.3"
    }
  },
  "nbformat": 4,
  "nbformat_minor": 0
}