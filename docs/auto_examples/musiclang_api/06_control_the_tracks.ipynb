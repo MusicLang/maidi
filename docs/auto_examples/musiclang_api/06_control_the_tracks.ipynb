{
  "cells": [
    {
      "cell_type": "markdown",
      "metadata": {},
      "source": [
        "\n# Deep musical control over the generation\n\nMusicLang allows you to control the chord progression of your song. In this example :\n\n- We constrain the model to generate a piano track with a dense monophonic melody\n- We constrain the second bar of the bass track to use a quite high register\n\nBy using and modifying this example you will be able to add deep control over the music generated with musiclang\n\nCheck `tags` to get the full list of available tags\n"
      ]
    },
    {
      "cell_type": "code",
      "execution_count": null,
      "metadata": {
        "collapsed": false
      },
      "outputs": [],
      "source": [
        "import os\nfrom maidi import MidiScore, instrument\nimport maidi.chords_symbols as cs\nfrom maidi.integrations.api import MusicLangAPI\n\n# Assuming API_KEY is set in the environment\nAPI_KEY = os.getenv(\"API_KEY\")\n\n# Create a 4 bar template with the given instruments\nscore = MidiScore.from_empty(\n    instruments=[instrument.PIANO, instrument.ACOUSTIC_BASS], nb_bars=5, ts=(4, 4), tempo=120\n)\n# Get the controls (the prompt) for this score\nmask, tags, chords = score.get_empty_controls(prevent_silence=True)\nmask[:, :] = 1  # Regenerate everything in the score\n\n# Let control the tags\nfor i in range(mask.shape[1]):\n    tags[0][i] = ['CONTROL_DENSITY__HIGH', 'CONTROL_MAX_POLYPHONY__1']\n\n# Second bar of the bass track use a quite high register (like alto)\ntags[1][1] = ['CONTROL_MIN_REGISTER__alto', 'CONTROL_MAX_REGISTER__alto']\n\n# Call the musiclang API to predict the score\napi = MusicLangAPI(api_key=API_KEY, verbose=True)\npredicted_score = api.predict(score,\n                              mask, tags=tags, chords=chords, async_mode=False, polling_interval=3\n                              )\npredicted_score.write(\"predicted_score.mid\")"
      ]
    }
  ],
  "metadata": {
    "kernelspec": {
      "display_name": "Python 3",
      "language": "python",
      "name": "python3"
    },
    "language_info": {
      "codemirror_mode": {
        "name": "ipython",
        "version": 3
      },
      "file_extension": ".py",
      "mimetype": "text/x-python",
      "name": "python",
      "nbconvert_exporter": "python",
      "pygments_lexer": "ipython3",
      "version": "3.12.3"
    }
  },
  "nbformat": 4,
  "nbformat_minor": 0
}