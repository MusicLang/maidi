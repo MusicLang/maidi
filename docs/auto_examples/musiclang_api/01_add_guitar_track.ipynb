{
  "cells": [
    {
      "cell_type": "markdown",
      "metadata": {},
      "source": [
        "\n# Generate a new track on a midi file\n\nIn this example :\n- We load a 4 bar template from a midi file\n- We add a clean guitar track\n- We call the musiclang API to predict the score\n- We save the predicted score to a midi file\n"
      ]
    },
    {
      "cell_type": "code",
      "execution_count": null,
      "metadata": {
        "collapsed": false
      },
      "outputs": [],
      "source": [
        "import os\nfrom maidi import MidiScore, instrument, midi_library\nfrom maidi.integrations.api import MusicLangAPI\n\n# Assuming API_URL and API_KEY are set in the environment\nAPI_URL = os.getenv(\"API_URL\")\nAPI_KEY = os.getenv(\"API_KEY\")\n\n# Create a 4 bar template with the given instruments\nscore = MidiScore.from_midi(midi_library.get_midi_file('drum_and_bass'))\n# Add a clean guitar track and set the mask\nscore = score.add_instrument(instrument.CLEAN_GUITAR)\nmask, _, _ = score.get_empty_controls(prevent_silence=True)\nmask[-1, :] = 1  # Generate the last track\n\n# Call the musiclang API to predict the score\napi = MusicLangAPI(api_key=API_KEY, verbose=True)\npredicted_score = api.predict(score,\n    mask, async_mode=False, polling_interval=3\n)\npredicted_score.write(\"predicted_score.mid\")"
      ]
    }
  ],
  "metadata": {
    "kernelspec": {
      "display_name": "Python 3",
      "language": "python",
      "name": "python3"
    },
    "language_info": {
      "codemirror_mode": {
        "name": "ipython",
        "version": 3
      },
      "file_extension": ".py",
      "mimetype": "text/x-python",
      "name": "python",
      "nbconvert_exporter": "python",
      "pygments_lexer": "ipython3",
      "version": "3.12.3"
    }
  },
  "nbformat": 4,
  "nbformat_minor": 0
}