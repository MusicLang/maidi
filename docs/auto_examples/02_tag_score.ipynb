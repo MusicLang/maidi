{
  "cells": [
    {
      "cell_type": "markdown",
      "metadata": {},
      "source": [
        "\n# Tag each bar of a score with musical informations\n\nIn this example :\n- We load an existing score from the example library\n- We tag each bar of the score with musical informations\n- We print the tags\n"
      ]
    },
    {
      "cell_type": "code",
      "execution_count": null,
      "metadata": {
        "collapsed": false
      },
      "outputs": [],
      "source": [
        "import os\n\nfrom maidi import MidiScore, ScoreTagger, midi_library\nfrom maidi.analysis import tags_providers\nfrom maidi.integrations.api import MusicLangAPI\n\nfilepath = \"examples/example1.mid\"\n\nscore = MidiScore.from_midi(midi_library.get_midi_file('drum_and_bass'))\n\ntagger = ScoreTagger(\n    [\n        tags_providers.DensityTagsProvider(),\n        tags_providers.MinMaxPolyphonyTagsProvider(),\n        tags_providers.MinMaxRegisterTagsProvider(),\n        tags_providers.SpecialNotesTagsProvider(),\n    ]\n)\n\ntags = tagger.tag_score(score)\nchords = score.get_chords_prompt()\n# Generate a song from scratch with these tags\nmask, _, _ = score.get_empty_controls(prevent_silence=True)\nmask[:, :] = 1  # Regenerate everything in the score\n\nprint(tags)"
      ]
    }
  ],
  "metadata": {
    "kernelspec": {
      "display_name": "Python 3",
      "language": "python",
      "name": "python3"
    },
    "language_info": {
      "codemirror_mode": {
        "name": "ipython",
        "version": 3
      },
      "file_extension": ".py",
      "mimetype": "text/x-python",
      "name": "python",
      "nbconvert_exporter": "python",
      "pygments_lexer": "ipython3",
      "version": "3.12.3"
    }
  },
  "nbformat": 4,
  "nbformat_minor": 0
}