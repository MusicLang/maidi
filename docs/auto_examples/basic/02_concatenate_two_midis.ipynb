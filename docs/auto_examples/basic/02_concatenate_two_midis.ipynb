{
  "cells": [
    {
      "cell_type": "markdown",
      "metadata": {},
      "source": [
        "\n# Concatenate two midis\n\nIn this example :\n- We will concatenate two midi files horizontally\n- Then vertically\n"
      ]
    },
    {
      "cell_type": "code",
      "execution_count": null,
      "metadata": {
        "collapsed": false
      },
      "outputs": [],
      "source": [
        "from maidi import MidiScore, midi_library\n\n\nscore1 = MidiScore.from_midi(midi_library.get_midi_file('drum_and_bass'))\nscore2 = MidiScore.from_midi(midi_library.get_midi_file('drum_and_bass'))\n\nprint('Score1 shape: ', score1.shape)\nprint('Score2.shape', score2.shape)\n\nhorizontally_concatenated_score = score1.concatenate(score2, axis=1)\nhorizontally_concatenated_score.write(\"horizontally_concatenated_score.mid\")\n\nprint('New horizontally concatenated score shape :', horizontally_concatenated_score.shape)\n# We could also concatenate the scores vertically (add new tracks keeping the same duration)\nvertically_concatenated_score = score1.concatenate(score2, axis=0)\n\nprint('New vertically concatenated score shape :', vertically_concatenated_score.shape)"
      ]
    }
  ],
  "metadata": {
    "kernelspec": {
      "display_name": "Python 3",
      "language": "python",
      "name": "python3"
    },
    "language_info": {
      "codemirror_mode": {
        "name": "ipython",
        "version": 3
      },
      "file_extension": ".py",
      "mimetype": "text/x-python",
      "name": "python",
      "nbconvert_exporter": "python",
      "pygments_lexer": "ipython3",
      "version": "3.12.3"
    }
  },
  "nbformat": 4,
  "nbformat_minor": 0
}